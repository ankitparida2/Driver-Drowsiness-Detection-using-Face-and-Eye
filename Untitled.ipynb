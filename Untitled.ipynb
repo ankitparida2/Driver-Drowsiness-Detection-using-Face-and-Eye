{
 "cells": [
  {
   "cell_type": "code",
   "execution_count": 1,
   "id": "feb4eca7-d179-4f9f-91e0-468b8382f551",
   "metadata": {},
   "outputs": [],
   "source": [
    "import os\n",
    "import shutil\n",
    "import glob\n",
    "from tqdm import tqdm"
   ]
  },
  {
   "cell_type": "code",
   "execution_count": 2,
   "id": "0946b8e5-2eff-4e85-8ecc-5ae0990ca28e",
   "metadata": {},
   "outputs": [
    {
     "name": "stderr",
     "output_type": "stream",
     "text": [
      "0it [00:00, ?it/s]\n",
      "100%|██████████| 3242/3242 [00:02<00:00, 1193.45it/s]\n",
      "100%|██████████| 1114/1114 [00:00<00:00, 1213.54it/s]\n",
      "100%|██████████| 679/679 [00:00<00:00, 1934.68it/s]\n",
      "100%|██████████| 1069/1069 [00:00<00:00, 2012.99it/s]\n",
      "100%|██████████| 736/736 [00:00<00:00, 2052.52it/s]\n",
      "100%|██████████| 1012/1012 [00:00<00:00, 2074.24it/s]\n",
      "100%|██████████| 624/624 [00:00<00:00, 2049.33it/s]\n",
      "100%|██████████| 832/832 [00:00<00:00, 1784.70it/s]\n",
      "100%|██████████| 387/387 [00:00<00:00, 2083.56it/s]\n",
      "100%|██████████| 399/399 [00:00<00:00, 1803.83it/s]\n",
      "100%|██████████| 1648/1648 [00:01<00:00, 1598.60it/s]\n",
      "100%|██████████| 8728/8728 [00:07<00:00, 1212.40it/s]\n",
      "100%|██████████| 3605/3605 [00:03<00:00, 1157.90it/s]\n",
      "100%|██████████| 8884/8884 [00:07<00:00, 1118.43it/s]\n",
      "100%|██████████| 1132/1132 [00:00<00:00, 1168.53it/s]\n",
      "100%|██████████| 1889/1889 [00:01<00:00, 1000.10it/s]\n",
      "100%|██████████| 1648/1648 [00:01<00:00, 1187.99it/s]\n",
      "100%|██████████| 4410/4410 [00:04<00:00, 967.23it/s] \n",
      "100%|██████████| 6175/6175 [00:05<00:00, 1038.73it/s]\n",
      "100%|██████████| 704/704 [00:00<00:00, 1011.98it/s]\n",
      "100%|██████████| 987/987 [00:00<00:00, 1156.38it/s]\n",
      "100%|██████████| 382/382 [00:00<00:00, 672.29it/s]\n",
      "100%|██████████| 522/522 [00:00<00:00, 1124.36it/s]\n",
      "100%|██████████| 752/752 [00:00<00:00, 1044.63it/s]\n",
      "100%|██████████| 1502/1502 [00:01<00:00, 1090.64it/s]\n",
      "100%|██████████| 1246/1246 [00:01<00:00, 1047.90it/s]\n",
      "100%|██████████| 665/665 [00:00<00:00, 905.62it/s]\n",
      "100%|██████████| 736/736 [00:00<00:00, 984.03it/s]\n",
      "100%|██████████| 1393/1393 [00:01<00:00, 1084.66it/s]\n",
      "100%|██████████| 1384/1384 [00:01<00:00, 1036.85it/s]\n",
      "100%|██████████| 1738/1738 [00:01<00:00, 1082.56it/s]\n",
      "100%|██████████| 6162/6162 [00:06<00:00, 1010.81it/s]\n",
      "100%|██████████| 681/681 [00:00<00:00, 995.32it/s] \n",
      "100%|██████████| 739/739 [00:00<00:00, 1038.09it/s]\n",
      "100%|██████████| 642/642 [00:00<00:00, 901.58it/s]\n",
      "100%|██████████| 6193/6193 [00:06<00:00, 955.02it/s] \n",
      "100%|██████████| 10257/10257 [00:10<00:00, 993.87it/s]\n"
     ]
    }
   ],
   "source": [
    "Raw_DIR= r'C:\\Users\\ASUS\\Downloads\\deep learning\\mrlEyes_2018_01'\n",
    "for dirpath, dirname, filenames in os.walk(Raw_DIR):\n",
    "    for i in tqdm([f for f in filenames if f.endswith('.png')]):\n",
    "        if i.split('_')[4]=='0':\n",
    "            shutil.copy(src=dirpath+'/'+i, dst=r'C:\\Users\\ASUS\\Downloads\\deep learning\\preaperd data\\closed eyes')\n",
    "        \n",
    "        elif i.split('_')[4]=='1':\n",
    "            shutil.copy(src=dirpath+'/'+i, dst=r'C:\\Users\\ASUS\\Downloads\\deep learning\\preaperd data\\open eyes')"
   ]
  },
  {
   "cell_type": "code",
   "execution_count": null,
   "id": "30763c29-04bd-44b4-8e8a-3614ded52d83",
   "metadata": {},
   "outputs": [],
   "source": []
  },
  {
   "cell_type": "code",
   "execution_count": null,
   "id": "605affee-a492-4a28-b7af-d1ecb48db640",
   "metadata": {},
   "outputs": [],
   "source": []
  },
  {
   "cell_type": "code",
   "execution_count": null,
   "id": "7fb96413-463b-4f2f-a74a-099b4f855967",
   "metadata": {},
   "outputs": [],
   "source": []
  },
  {
   "cell_type": "code",
   "execution_count": null,
   "id": "a6f4ecc4-43cb-4b4c-b229-c16365d673a1",
   "metadata": {},
   "outputs": [],
   "source": []
  }
 ],
 "metadata": {
  "kernelspec": {
   "display_name": "Python 3 (ipykernel)",
   "language": "python",
   "name": "python3"
  },
  "language_info": {
   "codemirror_mode": {
    "name": "ipython",
    "version": 3
   },
   "file_extension": ".py",
   "mimetype": "text/x-python",
   "name": "python",
   "nbconvert_exporter": "python",
   "pygments_lexer": "ipython3",
   "version": "3.12.4"
  }
 },
 "nbformat": 4,
 "nbformat_minor": 5
}
